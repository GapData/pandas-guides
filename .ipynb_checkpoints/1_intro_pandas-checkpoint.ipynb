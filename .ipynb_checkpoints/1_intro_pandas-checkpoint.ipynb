{
 "cells": [
  {
   "cell_type": "markdown",
   "metadata": {},
   "source": [
    "_This introduction to pandas is derived from Data School's pandas Q&A with my own notes and code on top of what was provided._"
   ]
  },
  {
   "cell_type": "markdown",
   "metadata": {},
   "source": [
    "## Introduction to Pandas"
   ]
  },
  {
   "cell_type": "markdown",
   "metadata": {},
   "source": [
    "**What is pandas?**\n",
    "- It's an open source data analysis library for providing easy-to-use data structures and data analysis tools\n",
    "\n",
    "**Benefits of pandas**\n",
    "- A lot of functionality\n",
    "- Active community\n",
    "- Extensive documentation\n",
    "- Plays well with other packages\n",
    "    - Built on top of NumPy\n",
    "    - Works well with scikit-learn\n",
    "\n",
    "**Useful links**\n",
    "- [pandas main page](http://pandas.pydata.org/)\n",
    "- [pandas installation instructions](http://pandas.pydata.org/pandas-docs/stable/install.html)\n",
    "- [Anaconda distribution of Python](https://www.continuum.io/downloads) (includes pandas)\n",
    "- [How to use the IPython/Jupyter notebook](https://youtu.be/IsXXlYVBt1M?t=5m17s) (video)\n",
    "\n"
   ]
  }
 ],
 "metadata": {
  "anaconda-cloud": {},
  "kernelspec": {
   "display_name": "Python [py3k]",
   "language": "python",
   "name": "Python [py3k]"
  },
  "language_info": {
   "codemirror_mode": {
    "name": "ipython",
    "version": 3
   },
   "file_extension": ".py",
   "mimetype": "text/x-python",
   "name": "python",
   "nbconvert_exporter": "python",
   "pygments_lexer": "ipython3",
   "version": "3.5.2"
  }
 },
 "nbformat": 4,
 "nbformat_minor": 0
}
